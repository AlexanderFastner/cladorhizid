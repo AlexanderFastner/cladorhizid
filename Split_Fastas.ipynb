{
 "cells": [
  {
   "cell_type": "markdown",
   "id": "496b71fb",
   "metadata": {},
   "source": [
    "# Split Fasta files without filtering"
   ]
  },
  {
   "cell_type": "code",
   "execution_count": null,
   "id": "38977ea7",
   "metadata": {},
   "outputs": [],
   "source": [
    "#have 1 fasta file\n",
    "#split into individual files per header\n",
    "#split those files into 1k per 10k individual files"
   ]
  },
  {
   "cell_type": "code",
   "execution_count": 1,
   "id": "27736bd5",
   "metadata": {},
   "outputs": [],
   "source": [
    "import numpy as np\n",
    "import os"
   ]
  },
  {
   "cell_type": "code",
   "execution_count": 29,
   "id": "0fa3d355",
   "metadata": {},
   "outputs": [
    {
     "name": "stdout",
     "output_type": "stream",
     "text": [
      "dict_keys(['>CLA1_hapB', '>CLA2_hapB', '>CLA3_hapB', '>CLA4_hapB', '>CLA5_hapB', '>CLA6_hapB', '>CLA7_hapB', '>CLA8_hapB', '>CLA9_hapB', '>CLA10_hapB', '>CLA11_hapB', '>CLA12_hapB', '>CLA13_hapB', '>CLA14_hapB', '>CLA15_hapB', '>CLA16_hapB', '>CLA17_hapB', '>CLA18_hapB', '>CLA_hapB_sca1', '>CLA_hapB_sca2', '>CLA_hapB_sca3', '>CLA_hapB_sca4', '>CLA_hapB_sca5', '>CLA_hapB_sca6', '>CLA_hapB_sca7', '>CLA_hapB_sca8', '>CLA_hapB_sca9', '>CLA_hapB_sca10', '>CLA_hapB_sca11', '>CLA_hapB_sca12', '>CLA_hapB_sca13', '>CLA_hapB_sca14', '>CLA_hapB_sca15', '>CLA_hapB_sca16', '>CLA_hapB_sca17', '>CLA_hapB_sca18', '>CLA_hapB_sca19', '>CLA_hapB_sca20', '>CLA_hapB_sca21', '>CLA_hapB_sca22', '>CLA_hapB_sca23', '>CLA_hapB_sca24', '>CLA_hapB_sca25', '>CLA_hapB_sca26', '>CLA_hapB_sca27', '>CLA_hapB_sca28', '>CLA_hapB_sca29', '>CLA_hapB_sca30', '>CLA_hapB_sca31', '>CLA_hapB_sca32', '>CLA_hapB_sca33', '>CLA_hapB_sca34', '>CLA_hapB_sca35', '>CLA_hapB_sca36', '>CLA_hapB_sca37', '>CLA_hapB_sca38', '>CLA_hapB_sca39', '>CLA_hapB_sca40', '>CLA_hapB_sca41', '>CLA_hapB_sca42', '>CLA_hapB_sca43', '>CLA_hapB_sca44', '>CLA_hapB_sca45', '>CLA_hapB_sca46', '>CLA_hapB_sca47', '>CLA_hapB_sca48', '>CLA_hapB_sca49', '>CLA_hapB_sca50', '>CLA_hapB_sca51', '>CLA_hapB_sca52', '>CLA_hapB_sca53', '>CLA_hapB_sca54', '>CLA_hapB_sca55', '>CLA_hapB_sca56', '>CLA_hapB_sca57', '>CLA_hapB_sca58', '>CLA_hapB_sca59', '>CLA_hapB_sca60', '>CLA_hapB_sca61', '>CLA_hapB_sca62', '>CLA_hapB_sca63', '>CLA_hapB_sca64', '>CLA_hapB_sca65', '>CLA_hapB_sca66', '>CLA_hapB_sca67', '>CLA_hapB_sca68', '>CLA_hapB_sca69', '>CLA_hapB_sca70', '>CLA_hapB_sca71', '>CLA_hapB_sca72', '>CLA_hapB_sca73', '>CLA_hapB_sca74', '>CLA_hapB_sca75', '>CLA_hapB_sca76', '>CLA_hapB_sca77', '>CLA_hapB_sca78', '>CLA_hapB_sca79', '>CLA_hapB_sca80', '>CLA_hapB_sca81', '>CLA_hapB_sca82', '>CLA_hapB_sca83', '>CLA_hapB_sca84', '>CLA_hapB_sca85', '>CLA_hapB_sca86', '>CLA_hapB_sca87', '>CLA_hapB_sca88', '>CLA_hapB_sca89', '>CLA_hapB_sca90', '>CLA_hapB_sca91', '>CLA_hapB_sca92', '>CLA_hapB_sca93', '>CLA_hapB_sca94', '>CLA_hapB_sca95', '>CLA_hapB_sca96', '>CLA_hapB_sca97', '>CLA_hapB_sca98', '>CLA_hapB_sca99', '>CLA_hapB_sca100', '>CLA_hapB_sca101', '>CLA_hapB_sca102', '>CLA_hapB_sca103', '>CLA_hapB_sca104', '>CLA_hapB_sca105', '>CLA_hapB_sca106', '>CLA_hapB_sca107', '>CLA_hapB_sca108', '>CLA_hapB_sca109', '>CLA_hapB_sca110', '>CLA_hapB_sca111', '>CLA_hapB_sca112', '>CLA_hapB_sca113', '>CLA_hapB_sca114', '>CLA_hapB_sca115', '>CLA_hapB_sca116', '>CLA_hapB_sca117', '>CLA_hapB_sca118', '>CLA_hapB_sca119', '>CLA_hapB_sca120', '>CLA_hapB_sca121', '>CLA_hapB_sca122', '>CLA_hapB_sca123', '>CLA_hapB_sca124', '>CLA_hapB_sca125', '>CLA_hapB_sca126', '>CLA_hapB_sca127', '>CLA_hapB_sca128', '>CLA_hapB_sca129', '>CLA_hapB_sca130', '>CLA_hapB_sca131', '>CLA_hapB_sca132', '>CLA_hapB_sca133', '>CLA_hapB_sca134', '>CLA_hapB_sca135', '>CLA_hapB_sca136', '>CLA_hapB_sca137', '>CLA_hapB_sca138', '>CLA_hapB_sca139', '>CLA_hapB_sca140', '>CLA_hapB_sca141', '>CLA_hapB_sca142', '>CLA_hapB_sca143', '>CLA_hapB_sca144', '>CLA_hapB_sca145', '>CLA_hapB_sca146', '>CLA_hapB_sca147', '>CLA_hapB_sca148', '>CLA_hapB_sca149', '>CLA_hapB_sca150', '>CLA_hapB_sca151', '>CLA_hapB_sca152', '>CLA_hapB_sca153', '>CLA_hapB_sca154', '>CLA_hapB_sca155', '>CLA_hapB_sca156', '>CLA_hapB_sca157', '>CLA_hapB_sca158', '>CLA_hapB_sca159', '>CLA_hapB_sca160', '>CLA_hapB_sca161', '>CLA_hapB_sca162', '>CLA_hapB_sca163', '>CLA_hapB_sca164', '>CLA_hapB_sca165', '>CLA_hapB_sca166', '>CLA_hapB_sca167', '>CLA_hapB_sca168', '>CLA_hapB_sca169', '>CLA_hapB_sca170', '>CLA_hapB_sca171', '>CLA_hapB_sca172', '>CLA_hapB_sca173', '>CLA_hapB_sca174', '>CLA_hapB_sca175', '>CLA_hapB_sca176', '>CLA_hapB_sca177', '>CLA_hapB_sca178', '>CLA_hapB_sca179', '>CLA_hapB_sca180', '>CLA_hapB_sca181', '>CLA_hapB_sca182', '>CLA_hapB_sca183', '>CLA_hapB_sca184', '>CLA_hapB_sca185', '>CLA_hapB_sca186', '>CLA_hapB_sca187', '>CLA_hapB_sca188', '>CLA_hapB_sca189', '>CLA_hapB_sca190', '>CLA_hapB_sca191', '>CLA_hapB_sca192', '>CLA_hapB_sca193', '>CLA_hapB_sca194', '>CLA_hapB_sca195', '>CLA_hapB_sca196', '>CLA_hapB_sca197', '>CLA_hapB_sca198', '>CLA_hapB_sca199', '>CLA_hapB_sca200', '>CLA_hapB_sca201', '>CLA_hapB_sca202', '>CLA_hapB_sca203', '>CLA_hapB_sca204', '>CLA_hapB_sca205', '>CLA_hapB_sca206', '>CLA_hapB_sca207', '>CLA_hapB_sca208', '>CLA_hapB_sca209', '>CLA_hapB_sca210', '>CLA_hapB_sca211', '>CLA_hapB_sca212', '>CLA_hapB_sca213', '>CLA_hapB_sca214', '>CLA_hapB_sca215', '>CLA_hapB_sca216', '>CLA_hapB_sca217', '>CLA_hapB_sca218', '>CLA_hapB_sca219', '>CLA_hapB_sca220', '>CLA_hapB_sca221', '>CLA_hapB_sca222', '>CLA_hapB_sca223', '>CLA_hapB_sca224', '>CLA_hapB_sca225', '>CLA_hapB_sca226', '>CLA_hapB_sca227', '>CLA_hapB_sca228', '>CLA_hapB_sca229', '>CLA_hapB_sca230', '>CLA_hapB_sca231', '>CLA_hapB_sca232', '>CLA_hapB_sca233', '>CLA_hapB_sca234', '>CLA_hapB_sca235', '>CLA_hapB_sca236', '>CLA_hapB_sca237', '>CLA_hapB_sca238', '>CLA_hapB_sca239', '>CLA_hapB_sca240', '>CLA_hapB_sca241', '>CLA_hapB_sca242', '>CLA_hapB_sca243', '>CLA_hapB_sca244', '>CLA_hapB_sca245', '>CLA_hapB_sca246', '>CLA_hapB_sca247', '>CLA_hapB_sca248', '>CLA_hapB_sca249', '>CLA_hapB_sca250', '>CLA_hapB_sca251', '>CLA_hapB_sca252', '>CLA_hapB_sca253', '>CLA_hapB_sca254', '>CLA_hapB_sca255', '>CLA_hapB_sca256', '>CLA_hapB_sca257', '>CLA_hapB_sca258', '>CLA_hapB_sca259', '>CLA_hapB_sca260', '>CLA_hapB_sca261', '>CLA_hapB_sca262', '>CLA_hapB_sca263', '>CLA_hapB_sca264', '>CLA_hapB_sca265', '>CLA_hapB_sca266', '>CLA_hapB_sca267', '>CLA_hapB_sca268', '>CLA_hapB_sca269', '>CLA_hapB_sca270', '>CLA_hapB_sca271', '>CLA_hapB_sca272', '>CLA_hapB_sca273', '>CLA_hapB_sca274', '>CLA_hapB_sca275', '>CLA_hapB_sca276', '>CLA_hapB_sca277', '>CLA_hapB_sca278', '>CLA_hapB_sca279', '>CLA_hapB_sca280', '>CLA_hapB_sca281', '>CLA_hapB_sca282', '>CLA_hapB_sca283', '>CLA_hapB_sca284', '>CLA_hapB_sca285', '>CLA_hapB_sca286', '>CLA_hapB_sca287', '>CLA_hapB_sca288', '>CLA_hapB_sca289', '>CLA_hapB_sca290', '>CLA_hapB_sca291', '>CLA_hapB_sca292', '>CLA_hapB_sca293', '>CLA_hapB_sca294', '>CLA_hapB_sca295', '>CLA_hapB_sca296', '>CLA_hapB_sca297', '>CLA_hapB_sca298', '>CLA_hapB_sca299', '>CLA_hapB_sca300', '>CLA_hapB_sca301', '>CLA_hapB_sca302', '>CLA_hapB_sca303', '>CLA_hapB_sca304', '>CLA_hapB_sca305', '>CLA_hapB_sca306', '>CLA_hapB_sca307', '>CLA_hapB_sca308', '>CLA_hapB_sca309', '>CLA_hapB_sca310', '>CLA_hapB_sca311', '>CLA_hapB_sca312', '>CLA_hapB_sca313', '>CLA_hapB_sca314', '>CLA_hapB_sca315', '>CLA_hapB_sca316', '>CLA_hapB_sca317', '>CLA_hapB_sca318', '>CLA_hapB_sca319', '>CLA_hapB_sca320', '>CLA_hapB_sca321', '>CLA_hapB_sca322', '>CLA_hapB_sca323', '>CLA_hapB_sca324', '>CLA_hapB_sca325', '>CLA_hapB_sca326', '>CLA_hapB_sca327', '>CLA_hapB_sca328', '>CLA_hapB_sca329', '>CLA_hapB_sca330', '>CLA_hapB_sca331', '>CLA_hapB_sca332', '>CLA_hapB_sca333', '>CLA_hapB_sca334', '>CLA_hapB_sca335', '>CLA_hapB_sca336', '>CLA_hapB_sca337', '>CLA_hapB_sca338', '>CLA_hapB_sca339', '>CLA_hapB_sca340', '>CLA_hapB_sca341', '>CLA_hapB_sca342', '>CLA_hapB_sca343', '>CLA_hapB_sca344', '>CLA_hapB_sca345', '>CLA_hapB_sca346', '>CLA_hapB_sca347', '>CLA_hapB_sca348', '>CLA_hapB_sca349', '>CLA_hapB_sca350', '>CLA_hapB_sca351', '>CLA_hapB_sca352', '>CLA_hapB_sca353', '>CLA_hapB_sca354', '>CLA_hapB_sca355', '>CLA_hapB_sca356', '>CLA_hapB_sca357', '>CLA_hapB_sca358', '>CLA_hapB_sca359', '>CLA_hapB_sca360', '>CLA_hapB_sca361', '>CLA_hapB_sca362', '>CLA_hapB_sca363', '>CLA_hapB_sca364', '>CLA_hapB_sca365', '>CLA_hapB_sca366', '>CLA_hapB_sca367', '>CLA_hapB_sca368', '>CLA_hapB_sca369', '>CLA_hapB_sca370', '>CLA_hapB_sca371', '>CLA_hapB_sca372', '>CLA_hapB_sca373', '>CLA_hapB_sca374', '>CLA_hapB_sca375', '>CLA_hapB_sca376', '>CLA_hapB_sca377', '>CLA_hapB_sca378', '>CLA_hapB_sca379', '>CLA_hapB_sca380', '>CLA_hapB_sca381', '>CLA_hapB_sca382', '>CLA_hapB_sca383', '>CLA_hapB_sca384', '>CLA_hapB_sca385', '>CLA_hapB_sca386', '>CLA_hapB_sca387', '>CLA_hapB_sca388', '>CLA_hapB_sca389', '>CLA_hapB_sca390', '>CLA_hapB_sca391', '>CLA_hapB_sca392', '>CLA_hapB_sca393', '>CLA_hapB_sca394', '>CLA_hapB_sca395', '>CLA_hapB_sca396', '>CLA_hapB_sca397', '>CLA_hapB_sca398', '>CLA_hapB_sca399', '>CLA_hapB_sca400', '>CLA_hapB_sca401', '>CLA_hapB_sca402', '>CLA_hapB_sca403', '>CLA_hapB_sca404', '>CLA_hapB_sca405', '>CLA_hapB_sca406', '>CLA_hapB_sca407', '>CLA_hapB_sca408', '>CLA_hapB_sca409', '>CLA_hapB_sca410', '>CLA_hapB_sca411', '>CLA_hapB_sca412', '>CLA_hapB_sca413', '>CLA_hapB_sca414', '>CLA_hapB_sca415', '>CLA_hapB_sca416', '>CLA_hapB_sca417', '>CLA_hapB_sca418', '>CLA_hapB_sca419', '>CLA_hapB_sca420', '>CLA_hapB_sca421', '>CLA_hapB_sca422', '>CLA_hapB_sca423', '>CLA_hapB_sca424', '>CLA_hapB_sca425', '>CLA_hapB_sca426', '>CLA_hapB_sca427', '>CLA_hapB_sca428', '>CLA_hapB_sca429', '>CLA_hapB_sca430', '>CLA_hapB_sca431', '>CLA_hapB_sca432', '>CLA_hapB_sca433', '>CLA_hapB_sca434', '>CLA_hapB_sca435', '>CLA_hapB_sca436', '>CLA_hapB_sca437', '>CLA_hapB_sca438', '>CLA_hapB_sca439', '>CLA_hapB_sca440', '>CLA_hapB_sca441', '>CLA_hapB_sca442', '>CLA_hapB_sca443', '>CLA_hapB_sca444', '>CLA_hapB_sca445', '>CLA_hapB_sca446', '>CLA_hapB_sca447', '>CLA_hapB_sca448', '>CLA_hapB_sca449', '>CLA_hapB_sca450', '>CLA_hapB_sca451', '>CLA_hapB_sca452', '>CLA_hapB_sca453', '>CLA_hapB_sca454', '>CLA_hapB_sca455', '>CLA_hapB_sca456', '>CLA_hapB_sca457', '>CLA_hapB_sca458', '>CLA_hapB_sca459', '>CLA_hapB_sca460', '>CLA_hapB_sca461', '>CLA_hapB_sca462', '>CLA_hapB_sca463', '>CLA_hapB_sca464', '>CLA_hapB_sca465', '>CLA_hapB_sca466', '>CLA_hapB_sca467', '>CLA_hapB_sca468', '>CLA_hapB_sca469', '>CLA_hapB_sca470', '>CLA_hapB_sca471', '>CLA_hapB_sca472', '>CLA_hapB_sca473', '>CLA_hapB_sca474', '>CLA_hapB_sca475', '>CLA_hapB_sca476', '>CLA_hapB_sca477', '>CLA_hapB_sca478', '>CLA_hapB_sca479', '>CLA_hapB_sca480', '>CLA_hapB_sca481', '>CLA_hapB_sca482', '>CLA_hapB_sca483', '>CLA_hapB_sca484', '>CLA_hapB_sca485', '>CLA_hapB_sca486', '>CLA_hapB_sca487', '>CLA_hapB_sca488', '>CLA_hapB_sca489', '>CLA_hapB_sca490', '>CLA_hapB_sca491', '>CLA_hapB_sca492', '>CLA_hapB_sca493', '>CLA_hapB_sca494', '>CLA_hapB_sca495', '>CLA_hapB_sca496', '>CLA_hapB_sca497', '>CLA_hapB_sca498', '>CLA_hapB_sca499', '>CLA_hapB_sca500', '>CLA_hapB_sca501', '>CLA_hapB_sca502', '>CLA_hapB_sca503', '>CLA_hapB_sca504', '>CLA_hapB_sca505', '>CLA_hapB_sca506', '>CLA_hapB_sca507', '>CLA_hapB_sca508', '>CLA_hapB_sca509', '>CLA_hapB_sca510', '>CLA_hapB_sca511', '>CLA_hapB_sca512', '>CLA_hapB_sca513', '>CLA_hapB_sca514', '>CLA_hapB_sca515', '>CLA_hapB_sca516', '>CLA_hapB_sca517', '>CLA_hapB_sca518', '>CLA_hapB_sca519', '>CLA_hapB_sca520', '>CLA_hapB_sca521', '>CLA_hapB_sca522', '>CLA_hapB_sca523', '>CLA_hapB_sca524', '>CLA_hapB_sca525', '>CLA_hapB_sca526', '>CLA_hapB_sca527', '>CLA_hapB_sca528', '>CLA_hapB_sca529', '>CLA_hapB_sca530', '>CLA_hapB_sca531', '>CLA_hapB_sca532', '>CLA_hapB_sca533', '>CLA_hapB_sca534', '>CLA_hapB_sca535', '>CLA_hapB_sca536', '>CLA_hapB_sca537', '>CLA_hapB_sca538', '>CLA_hapB_sca539', '>CLA_hapB_sca540', '>CLA_hapB_sca541', '>CLA_hapB_sca542', '>CLA_hapB_sca543', '>CLA_hapB_sca544', '>CLA_hapB_sca545', '>CLA_hapB_sca546', '>CLA_hapB_sca547', '>CLA_hapB_sca548', '>CLA_hapB_sca549', '>CLA_hapB_sca550', '>CLA_hapB_sca551', '>CLA_hapB_sca552', '>CLA_hapB_sca553', '>CLA_hapB_sca554', '>CLA_hapB_sca555', '>CLA_hapB_sca556', '>CLA_hapB_sca557', '>CLA_hapB_sca558', '>CLA_hapB_sca559', '>CLA_hapB_sca560', '>CLA_hapB_sca561', '>CLA_hapB_sca562', '>CLA_hapB_sca563', '>CLA_hapB_sca564', '>CLA_hapB_sca565', '>CLA_hapB_sca566', '>CLA_hapB_sca567', '>CLA_hapB_sca568', '>CLA_hapB_sca569', '>CLA_hapB_sca570', '>CLA_hapB_sca571', '>CLA_hapB_sca572', '>CLA_hapB_sca573', '>CLA_hapB_sca574', '>CLA_hapB_sca575', '>CLA_hapB_sca576', '>CLA_hapB_sca577', '>CLA_hapB_sca578', '>CLA_hapB_sca579', '>CLA_hapB_sca580', '>CLA_hapB_sca581', '>CLA_hapB_sca582', '>CLA_hapB_sca583', '>CLA_hapB_sca584', '>CLA_hapB_sca585', '>CLA_hapB_sca586', '>CLA_hapB_sca587', '>CLA_hapB_sca588', '>CLA_hapB_sca589', '>CLA_hapB_sca590', '>CLA_hapB_sca591', '>CLA_hapB_sca592', '>CLA_hapB_sca593', '>CLA_hapB_sca594', '>CLA_hapB_sca595', '>CLA_hapB_sca596'])\n"
     ]
    }
   ],
   "source": [
    "input = '/netvolumes/srva229/molpal/hpc_exchange/Alex/cladorhizid_processing/data/'\n",
    "output = '/netvolumes/srva229/molpal/hpc_exchange/Alex/cladorhizid_processing/out_dir'\n",
    "with open(input + 'cladorhizid_v0.6_hapB/clado_v0.6_hapB.fasta', 'r') as fasta:\n",
    "        dict = {}\n",
    "        current_id = None\n",
    "        current_seq = None\n",
    "        for line in fasta:\n",
    "            if line.startswith(\">\"):\n",
    "                if current_id is not None:\n",
    "                    dict[current_id] = current_seq\n",
    "                # Start the new contig\n",
    "                current_id = line.strip()\n",
    "                #print(current_id)\n",
    "                current_seq = \"\"\n",
    "            else:\n",
    "                current_seq += line.strip()\n",
    "                \n",
    "        dict[current_id] = current_seq\n",
    "\n",
    "        print(dict.keys())\n",
    "\n",
    "        #for every key in dict\n",
    "        for key in dict.keys():\n",
    "            #make new file \n",
    "            with open(output + '/cladorhizid_v0.6_hapB/' + key + '.fasta', 'w') as out:\n",
    "                length = len(dict.get(key))\n",
    "                #print(length)\n",
    "                if length > (10000 + 1000):\n",
    "                    #loop\n",
    "                    pos = 0\n",
    "                    while pos < length:\n",
    "                        start = pos\n",
    "                        end = pos + 1000\n",
    "                        #header = startpos endpos\n",
    "                        #sequence = sequence\n",
    "                        seq = (dict.get(key)[start:end] + '\\n')\n",
    "                        header = ('>' + str(start) + ' : ' + str(end) + '\\n')\n",
    "                        pos += 10000 + 1000\n",
    "                        out.write(header)\n",
    "                        out.write(seq)\n",
    "            out.close()\n",
    "fasta.close()"
   ]
  },
  {
   "cell_type": "code",
   "execution_count": null,
   "id": "97ed10bf",
   "metadata": {},
   "outputs": [],
   "source": []
  }
 ],
 "metadata": {
  "kernelspec": {
   "display_name": "Heliopora",
   "language": "python",
   "name": "heliopora"
  },
  "language_info": {
   "codemirror_mode": {
    "name": "ipython",
    "version": 3
   },
   "file_extension": ".py",
   "mimetype": "text/x-python",
   "name": "python",
   "nbconvert_exporter": "python",
   "pygments_lexer": "ipython3",
   "version": "3.10.9"
  }
 },
 "nbformat": 4,
 "nbformat_minor": 5
}
