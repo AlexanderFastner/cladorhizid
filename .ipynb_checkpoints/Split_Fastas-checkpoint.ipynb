{
 "cells": [
  {
   "cell_type": "markdown",
   "id": "496b71fb",
   "metadata": {},
   "source": [
    "# Split Fasta files without filtering"
   ]
  },
  {
   "cell_type": "code",
   "execution_count": null,
   "id": "38977ea7",
   "metadata": {},
   "outputs": [],
   "source": [
    "#have 1 fasta file\n",
    "#split into individual files per header\n",
    "#split those files into 1k per 10k individual files"
   ]
  },
  {
   "cell_type": "code",
   "execution_count": 1,
   "id": "27736bd5",
   "metadata": {},
   "outputs": [],
   "source": [
    "import numpy as np\n",
    "import os"
   ]
  },
  {
   "cell_type": "code",
   "execution_count": 33,
   "id": "0fa3d355",
   "metadata": {},
   "outputs": [],
   "source": [
    "input = '/netvolumes/srva229/molpal/hpc_exchange/Alex/cladorhizid_processing/data/'\n",
    "output = '/netvolumes/srva229/molpal/hpc_exchange/Alex/cladorhizid_processing/out_dir'\n",
    "with open(input + 'cladorhizid_v0.6_hapA/clado_v0.6_hapA.fasta', 'r') as fasta:\n",
    "        dict = {}\n",
    "        current_id = None\n",
    "        current_seq = None\n",
    "        for line in fasta:\n",
    "            if line.startswith(\">\"):\n",
    "                if current_id is not None:\n",
    "                    dict[current_id] = current_seq\n",
    "                # Start the new contig\n",
    "                current_id = line.strip()\n",
    "                #print(current_id)\n",
    "                current_seq = \"\"\n",
    "            else:\n",
    "                current_seq += line.strip()\n",
    "                \n",
    "        dict[current_id] = current_seq\n",
    "\n",
    "        #print(dict.keys())\n",
    "\n",
    "        #for every key in dict\n",
    "        for key in dict.keys():\n",
    "            #make new file \n",
    "            with open(output + '/cladorhizid_v0.6_hapA/' + key + '.fasta', 'w') as out:\n",
    "                length = len(dict.get(key))\n",
    "                #print(length)\n",
    "                if length > (10000 + 1000):\n",
    "                    #loop\n",
    "                    pos = 0\n",
    "                    while pos < length:\n",
    "                        start = pos\n",
    "                        end = pos + 1000\n",
    "                        #header = startpos endpos\n",
    "                        #sequence = sequence\n",
    "                        seq = (dict.get(key)[start:end] + '\\n')\n",
    "                        header = ('>' + str(start) + ' : ' + str(end) + '\\n')\n",
    "                        pos += 10000 + 1000\n",
    "                        out.write(header)\n",
    "                        out.write(seq)\n",
    "                else:\n",
    "                    if length > 1000:\n",
    "                        start = 0\n",
    "                        end = 1000\n",
    "                        seq = (dict.get(key)[start:end] + '\\n')\n",
    "                        header = ('>' + str(start) + ' : ' + str(end) + '\\n')\n",
    "                        out.write(header)\n",
    "                        out.write(seq)\n",
    "                    else:\n",
    "                        print(key, len(dict.get(key)))\n",
    "\n",
    "            out.close()\n",
    "fasta.close()"
   ]
  },
  {
   "cell_type": "code",
   "execution_count": null,
   "id": "97ed10bf",
   "metadata": {},
   "outputs": [],
   "source": []
  }
 ],
 "metadata": {
  "kernelspec": {
   "display_name": "Heliopora",
   "language": "python",
   "name": "heliopora"
  },
  "language_info": {
   "codemirror_mode": {
    "name": "ipython",
    "version": 3
   },
   "file_extension": ".py",
   "mimetype": "text/x-python",
   "name": "python",
   "nbconvert_exporter": "python",
   "pygments_lexer": "ipython3",
   "version": "3.10.9"
  }
 },
 "nbformat": 4,
 "nbformat_minor": 5
}
